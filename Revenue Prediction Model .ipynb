{
 "cells": [
  {
   "cell_type": "markdown",
   "id": "78126052",
   "metadata": {},
   "source": [
    "<div class=\"alert alert-block alert-info\"><h1 span style=\"font-size:20px;color:#AA0078;font-weight : bold\"> Advertisement Revenue Prediction Model </span> </div>"
   ]
  },
  {
   "cell_type": "code",
   "execution_count": 1,
   "id": "581bd2ef",
   "metadata": {},
   "outputs": [],
   "source": [
    "# Importing Libraries\n",
    "import pandas as pd\n",
    "import numpy as np\n",
    "import matplotlib.pyplot as plt \n",
    "import seaborn as sns\n",
    "import sklearn as sk\n",
    "from sklearn.metrics import mean_squared_error, mean_absolute_error\n",
    "from sklearn.linear_model import LinearRegression\n",
    "from sklearn.preprocessing import StandardScaler \n",
    "from sklearn.ensemble import RandomForestRegressor\n",
    "import warnings\n",
    "warnings.filterwarnings('ignore')"
   ]
  },
  {
   "cell_type": "markdown",
   "id": "66d9f6ed",
   "metadata": {},
   "source": [
    "<div class=\"alert alert-block alert-info\"> <span style=\"font-size:17px;font-weight : bold;color:#AA0078\">Importing Data </span></div>"
   ]
  },
  {
   "cell_type": "code",
   "execution_count": 2,
   "id": "dc344e39",
   "metadata": {},
   "outputs": [],
   "source": [
    "data = pd.read_csv(r'C:\\Users\\patil\\OneDrive\\Desktop\\IITG SA DS\\Hackathon\\Train_Data.csv')"
   ]
  },
  {
   "cell_type": "code",
   "execution_count": 3,
   "id": "0d336a3c",
   "metadata": {
    "scrolled": false
   },
   "outputs": [
    {
     "data": {
      "text/html": [
       "<div>\n",
       "<style scoped>\n",
       "    .dataframe tbody tr th:only-of-type {\n",
       "        vertical-align: middle;\n",
       "    }\n",
       "\n",
       "    .dataframe tbody tr th {\n",
       "        vertical-align: top;\n",
       "    }\n",
       "\n",
       "    .dataframe thead th {\n",
       "        text-align: right;\n",
       "    }\n",
       "</style>\n",
       "<table border=\"1\" class=\"dataframe\">\n",
       "  <thead>\n",
       "    <tr style=\"text-align: right;\">\n",
       "      <th></th>\n",
       "      <th>date</th>\n",
       "      <th>campaign</th>\n",
       "      <th>adgroup</th>\n",
       "      <th>ad</th>\n",
       "      <th>impressions</th>\n",
       "      <th>clicks</th>\n",
       "      <th>cost</th>\n",
       "      <th>conversions</th>\n",
       "      <th>revenue</th>\n",
       "    </tr>\n",
       "  </thead>\n",
       "  <tbody>\n",
       "    <tr>\n",
       "      <th>0</th>\n",
       "      <td>01-08-2020</td>\n",
       "      <td>campaign 1</td>\n",
       "      <td>adgroup 1</td>\n",
       "      <td>ad 1</td>\n",
       "      <td>24</td>\n",
       "      <td>6</td>\n",
       "      <td>0.08</td>\n",
       "      <td>0</td>\n",
       "      <td>0.00</td>\n",
       "    </tr>\n",
       "    <tr>\n",
       "      <th>1</th>\n",
       "      <td>01-08-2020</td>\n",
       "      <td>campaign 1</td>\n",
       "      <td>adgroup 2</td>\n",
       "      <td>ad 1</td>\n",
       "      <td>1</td>\n",
       "      <td>0</td>\n",
       "      <td>0.00</td>\n",
       "      <td>0</td>\n",
       "      <td>0.00</td>\n",
       "    </tr>\n",
       "    <tr>\n",
       "      <th>2</th>\n",
       "      <td>01-08-2020</td>\n",
       "      <td>campaign 1</td>\n",
       "      <td>adgroup 3</td>\n",
       "      <td>ad 1</td>\n",
       "      <td>13</td>\n",
       "      <td>4</td>\n",
       "      <td>0.04</td>\n",
       "      <td>0</td>\n",
       "      <td>0.00</td>\n",
       "    </tr>\n",
       "    <tr>\n",
       "      <th>3</th>\n",
       "      <td>01-08-2020</td>\n",
       "      <td>campaign 1</td>\n",
       "      <td>adgroup 4</td>\n",
       "      <td>ad 1</td>\n",
       "      <td>5</td>\n",
       "      <td>4</td>\n",
       "      <td>0.08</td>\n",
       "      <td>0</td>\n",
       "      <td>0.00</td>\n",
       "    </tr>\n",
       "    <tr>\n",
       "      <th>4</th>\n",
       "      <td>01-08-2020</td>\n",
       "      <td>campaign 1</td>\n",
       "      <td>adgroup 1</td>\n",
       "      <td>ad 2</td>\n",
       "      <td>247</td>\n",
       "      <td>126</td>\n",
       "      <td>1.29</td>\n",
       "      <td>4</td>\n",
       "      <td>925.71</td>\n",
       "    </tr>\n",
       "  </tbody>\n",
       "</table>\n",
       "</div>"
      ],
      "text/plain": [
       "         date    campaign    adgroup    ad  impressions  clicks  cost  \\\n",
       "0  01-08-2020  campaign 1  adgroup 1  ad 1           24       6  0.08   \n",
       "1  01-08-2020  campaign 1  adgroup 2  ad 1            1       0  0.00   \n",
       "2  01-08-2020  campaign 1  adgroup 3  ad 1           13       4  0.04   \n",
       "3  01-08-2020  campaign 1  adgroup 4  ad 1            5       4  0.08   \n",
       "4  01-08-2020  campaign 1  adgroup 1  ad 2          247     126  1.29   \n",
       "\n",
       "   conversions  revenue  \n",
       "0            0     0.00  \n",
       "1            0     0.00  \n",
       "2            0     0.00  \n",
       "3            0     0.00  \n",
       "4            4   925.71  "
      ]
     },
     "execution_count": 3,
     "metadata": {},
     "output_type": "execute_result"
    }
   ],
   "source": [
    "data.head()"
   ]
  },
  {
   "cell_type": "code",
   "execution_count": 4,
   "id": "65d19b1e",
   "metadata": {},
   "outputs": [
    {
     "data": {
      "text/plain": [
       "date            object\n",
       "campaign        object\n",
       "adgroup         object\n",
       "ad              object\n",
       "impressions      int64\n",
       "clicks           int64\n",
       "cost           float64\n",
       "conversions      int64\n",
       "revenue        float64\n",
       "dtype: object"
      ]
     },
     "execution_count": 4,
     "metadata": {},
     "output_type": "execute_result"
    }
   ],
   "source": [
    "data.dtypes"
   ]
  },
  {
   "cell_type": "code",
   "execution_count": 5,
   "id": "b3962009",
   "metadata": {},
   "outputs": [
    {
     "data": {
      "text/plain": [
       "(4571, 9)"
      ]
     },
     "execution_count": 5,
     "metadata": {},
     "output_type": "execute_result"
    }
   ],
   "source": [
    "data.shape"
   ]
  },
  {
   "cell_type": "code",
   "execution_count": 6,
   "id": "f392ac3c",
   "metadata": {
    "scrolled": true
   },
   "outputs": [
    {
     "data": {
      "text/html": [
       "<div>\n",
       "<style scoped>\n",
       "    .dataframe tbody tr th:only-of-type {\n",
       "        vertical-align: middle;\n",
       "    }\n",
       "\n",
       "    .dataframe tbody tr th {\n",
       "        vertical-align: top;\n",
       "    }\n",
       "\n",
       "    .dataframe thead th {\n",
       "        text-align: right;\n",
       "    }\n",
       "</style>\n",
       "<table border=\"1\" class=\"dataframe\">\n",
       "  <thead>\n",
       "    <tr style=\"text-align: right;\">\n",
       "      <th></th>\n",
       "      <th>impressions</th>\n",
       "      <th>clicks</th>\n",
       "      <th>cost</th>\n",
       "      <th>conversions</th>\n",
       "      <th>revenue</th>\n",
       "    </tr>\n",
       "  </thead>\n",
       "  <tbody>\n",
       "    <tr>\n",
       "      <th>count</th>\n",
       "      <td>4571.000000</td>\n",
       "      <td>4571.000000</td>\n",
       "      <td>4571.000000</td>\n",
       "      <td>4571.000000</td>\n",
       "      <td>4571.000000</td>\n",
       "    </tr>\n",
       "    <tr>\n",
       "      <th>mean</th>\n",
       "      <td>92.635747</td>\n",
       "      <td>43.340844</td>\n",
       "      <td>2.800834</td>\n",
       "      <td>1.339094</td>\n",
       "      <td>231.865340</td>\n",
       "    </tr>\n",
       "    <tr>\n",
       "      <th>std</th>\n",
       "      <td>198.349737</td>\n",
       "      <td>100.164913</td>\n",
       "      <td>14.361618</td>\n",
       "      <td>5.223922</td>\n",
       "      <td>1091.742763</td>\n",
       "    </tr>\n",
       "    <tr>\n",
       "      <th>min</th>\n",
       "      <td>1.000000</td>\n",
       "      <td>0.000000</td>\n",
       "      <td>0.000000</td>\n",
       "      <td>0.000000</td>\n",
       "      <td>0.000000</td>\n",
       "    </tr>\n",
       "    <tr>\n",
       "      <th>25%</th>\n",
       "      <td>6.000000</td>\n",
       "      <td>2.000000</td>\n",
       "      <td>0.040000</td>\n",
       "      <td>0.000000</td>\n",
       "      <td>0.000000</td>\n",
       "    </tr>\n",
       "    <tr>\n",
       "      <th>50%</th>\n",
       "      <td>16.000000</td>\n",
       "      <td>7.000000</td>\n",
       "      <td>0.210000</td>\n",
       "      <td>0.000000</td>\n",
       "      <td>0.000000</td>\n",
       "    </tr>\n",
       "    <tr>\n",
       "      <th>75%</th>\n",
       "      <td>84.000000</td>\n",
       "      <td>38.000000</td>\n",
       "      <td>1.350000</td>\n",
       "      <td>1.000000</td>\n",
       "      <td>92.600000</td>\n",
       "    </tr>\n",
       "    <tr>\n",
       "      <th>max</th>\n",
       "      <td>3239.000000</td>\n",
       "      <td>1771.000000</td>\n",
       "      <td>531.250000</td>\n",
       "      <td>94.000000</td>\n",
       "      <td>20515.410000</td>\n",
       "    </tr>\n",
       "  </tbody>\n",
       "</table>\n",
       "</div>"
      ],
      "text/plain": [
       "       impressions       clicks         cost  conversions       revenue\n",
       "count  4571.000000  4571.000000  4571.000000  4571.000000   4571.000000\n",
       "mean     92.635747    43.340844     2.800834     1.339094    231.865340\n",
       "std     198.349737   100.164913    14.361618     5.223922   1091.742763\n",
       "min       1.000000     0.000000     0.000000     0.000000      0.000000\n",
       "25%       6.000000     2.000000     0.040000     0.000000      0.000000\n",
       "50%      16.000000     7.000000     0.210000     0.000000      0.000000\n",
       "75%      84.000000    38.000000     1.350000     1.000000     92.600000\n",
       "max    3239.000000  1771.000000   531.250000    94.000000  20515.410000"
      ]
     },
     "execution_count": 6,
     "metadata": {},
     "output_type": "execute_result"
    }
   ],
   "source": [
    "data.describe()"
   ]
  },
  {
   "cell_type": "code",
   "execution_count": 7,
   "id": "9786bcc4",
   "metadata": {
    "scrolled": true
   },
   "outputs": [
    {
     "data": {
      "text/plain": [
       "array(['ad 1', 'ad 2', 'ad 3', 'ad 4', 'ad 5', 'ad 6', 'ad 7', 'ad 8',\n",
       "       'ad 9', 'ad 10', 'ad 11', 'ad 12', 'ad 13', 'ad 14', 'ad 15',\n",
       "       'ad 16', 'ad 17', 'ad 18', 'ad 19', 'ad 20', 'ad 21', 'ad 22',\n",
       "       'ad 23', 'ad 24', 'ad 25', 'ad 26', 'ad 27', 'ad 28', 'ad 29',\n",
       "       'ad 30', 'ad 31', 'ad 32', 'ad 33', 'ad 34', 'ad 35', 'ad 36',\n",
       "       'ad 37', 'ad 38', 'ad 39', 'ad 40', 'ad 41', 'ad 42', 'ad 43',\n",
       "       'ad 44', 'ad 45', 'ad 46', 'ad 47', 'ad 48', 'ad 49', 'ad 50',\n",
       "       'ad 51', 'ad 52', 'ad 53', 'ad 54', 'ad 55', 'ad 56', 'ad 57',\n",
       "       'ad 58', 'ad 59', 'ad 60', 'ad 61', 'ad 62', 'ad 63', 'ad 64',\n",
       "       'ad 65', 'ad 66', 'ad 67', 'ad 68', 'ad 69', 'ad 70'], dtype=object)"
      ]
     },
     "execution_count": 7,
     "metadata": {},
     "output_type": "execute_result"
    }
   ],
   "source": [
    "data.ad.unique()"
   ]
  },
  {
   "cell_type": "markdown",
   "id": "af124296",
   "metadata": {},
   "source": [
    "<span style=\"font-size:18px;color:#AA0078\"> ** ad attribute has 70 unique categories. </span>"
   ]
  },
  {
   "cell_type": "code",
   "execution_count": 8,
   "id": "cbe5aa0e",
   "metadata": {},
   "outputs": [
    {
     "data": {
      "text/plain": [
       "array(['adgroup 1', 'adgroup 2', 'adgroup 3', 'adgroup 4'], dtype=object)"
      ]
     },
     "execution_count": 8,
     "metadata": {},
     "output_type": "execute_result"
    }
   ],
   "source": [
    "data.adgroup.unique()"
   ]
  },
  {
   "cell_type": "markdown",
   "id": "4e93d8d2",
   "metadata": {},
   "source": [
    "<span style=\"font-size:18px;color:#AA0078\"> **adgroup attribute has 4 unique categories </span>"
   ]
  },
  {
   "cell_type": "markdown",
   "id": "8bb2484c",
   "metadata": {},
   "source": [
    "<div class=\"alert alert-block alert-info\"> <span style=\"font-size:17px;font-weight : bold;color:#AA0078\">Visualising the Data </span></div>"
   ]
  },
  {
   "cell_type": "code",
   "execution_count": 9,
   "id": "f45e5f46",
   "metadata": {
    "scrolled": false
   },
   "outputs": [
    {
     "data": {
      "image/png": "[encoded data removed]",
      "text/plain": [
       "<Figure size 432x288 with 1 Axes>"
      ]
     },
     "metadata": {
      "needs_background": "light"
     },
     "output_type": "display_data"
    }
   ],
   "source": [
    "plt.scatter(data.clicks,data.impressions, c='#17becf')\n",
    "plt.xlabel('Clicks')\n",
    "plt.ylabel('Impressions')\n",
    "plt.show()"
   ]
  },
  {
   "cell_type": "code",
   "execution_count": 10,
   "id": "eeeade2a",
   "metadata": {
    "scrolled": true
   },
   "outputs": [
    {
     "data": {
      "image/png": "[encoded data removed]",
      "text/plain": [
       "<Figure size 432x288 with 1 Axes>"
      ]
     },
     "metadata": {
      "needs_background": "light"
     },
     "output_type": "display_data"
    }
   ],
   "source": [
    "plt.scatter(data.conversions,data.revenue, c='red')\n",
    "plt.xlabel('Conversions')\n",
    "plt.ylabel('Revenue')\n",
    "plt.show()"
   ]
  },
  {
   "cell_type": "code",
   "execution_count": 11,
   "id": "b7740023",
   "metadata": {},
   "outputs": [
    {
     "data": {
      "text/plain": [
       "<seaborn.axisgrid.PairGrid at 0x2a3ec575850>"
      ]
     },
     "execution_count": 11,
     "metadata": {},
     "output_type": "execute_result"
    },
    {
     "data": {
      "image/png": "[encoded data removed]",
      "text/plain": [
       "<Figure size 900x900 with 30 Axes>"
      ]
     },
     "metadata": {
      "needs_background": "light"
     },
     "output_type": "display_data"
    }
   ],
   "source": [
    "sns.pairplot(data, palette='rainbow')"
   ]
  },
  {
   "cell_type": "markdown",
   "id": "9c42b15e",
   "metadata": {},
   "source": [
    "\n",
    "<div class=\"alert alert-block alert-info\"> <span style=\"font-size:17px;font-weight : bold;color:#AA0078\"> Plotting Correlation Matrix  </span></div>"
   ]
  },
  {
   "cell_type": "code",
   "execution_count": 12,
   "id": "43065b1b",
   "metadata": {},
   "outputs": [
    {
     "data": {
      "image/png": "[encoded data removed]",
      "text/plain": [
       "<Figure size 432x288 with 2 Axes>"
      ]
     },
     "metadata": {
      "needs_background": "light"
     },
     "output_type": "display_data"
    }
   ],
   "source": [
    "plt.figure()\n",
    "sns.heatmap(data.corr(), cmap='coolwarm', annot=True)\n",
    "plt.show()"
   ]
  },
  {
   "cell_type": "markdown",
   "id": "1bcc02b5",
   "metadata": {},
   "source": [
    "\n",
    "<div class=\"alert alert-block alert-info\"> <span style=\"font-size:17px;font-weight : bold;color:#AA0078\">Preprocessing Data </span></div>"
   ]
  },
  {
   "cell_type": "code",
   "execution_count": 13,
   "id": "ce2bafe8",
   "metadata": {},
   "outputs": [
    {
     "name": "stdout",
     "output_type": "stream",
     "text": [
      "<class 'pandas.core.frame.DataFrame'>\n",
      "RangeIndex: 4571 entries, 0 to 4570\n",
      "Data columns (total 9 columns):\n",
      " #   Column       Non-Null Count  Dtype  \n",
      "---  ------       --------------  -----  \n",
      " 0   date         4571 non-null   object \n",
      " 1   campaign     4571 non-null   object \n",
      " 2   adgroup      4571 non-null   object \n",
      " 3   ad           4571 non-null   object \n",
      " 4   impressions  4571 non-null   int64  \n",
      " 5   clicks       4571 non-null   int64  \n",
      " 6   cost         4571 non-null   float64\n",
      " 7   conversions  4571 non-null   int64  \n",
      " 8   revenue      4571 non-null   float64\n",
      "dtypes: float64(2), int64(3), object(4)\n",
      "memory usage: 321.5+ KB\n"
     ]
    }
   ],
   "source": [
    "data.info()"
   ]
  },
  {
   "cell_type": "code",
   "execution_count": 14,
   "id": "92edc5ee",
   "metadata": {},
   "outputs": [
    {
     "data": {
      "image/png": "[encoded data removed]",
      "text/plain": [
       "<Figure size 432x288 with 1 Axes>"
      ]
     },
     "metadata": {
      "needs_background": "light"
     },
     "output_type": "display_data"
    },
    {
     "data": {
      "image/png": "[encoded data removed]",
      "text/plain": [
       "<Figure size 432x288 with 1 Axes>"
      ]
     },
     "metadata": {
      "needs_background": "light"
     },
     "output_type": "display_data"
    }
   ],
   "source": [
    "from scipy import stats\n",
    "from scipy.stats import norm\n",
    "\n",
    "sns.distplot(data['revenue'], fit=norm);\n",
    "fig = plt.figure()\n",
    "res = stats.probplot(data['revenue'], plot=plt)"
   ]
  },
  {
   "cell_type": "code",
   "execution_count": 15,
   "id": "835d823e",
   "metadata": {},
   "outputs": [
    {
     "data": {
      "image/png": "[encoded data removed]",
      "text/plain": [
       "<Figure size 432x288 with 1 Axes>"
      ]
     },
     "metadata": {
      "needs_background": "light"
     },
     "output_type": "display_data"
    },
    {
     "data": {
      "image/png": "[encoded data removed]",
      "text/plain": [
       "<Figure size 432x288 with 1 Axes>"
      ]
     },
     "metadata": {
      "needs_background": "light"
     },
     "output_type": "display_data"
    }
   ],
   "source": [
    "data['impressions'] = np.log(data.impressions)\n",
    "sns.distplot(data['impressions'], fit=norm);\n",
    "fig = plt.figure()\n",
    "res = stats.probplot(data['impressions'], plot=plt)"
   ]
  },
  {
   "cell_type": "code",
   "execution_count": 16,
   "id": "b55fdf6e",
   "metadata": {},
   "outputs": [
    {
     "data": {
      "image/png": "[encoded data removed]",
      "text/plain": [
       "<Figure size 432x288 with 1 Axes>"
      ]
     },
     "metadata": {
      "needs_background": "light"
     },
     "output_type": "display_data"
    },
    {
     "data": {
      "image/png": "[encoded data removed]",
      "text/plain": [
       "<Figure size 432x288 with 1 Axes>"
      ]
     },
     "metadata": {
      "needs_background": "light"
     },
     "output_type": "display_data"
    }
   ],
   "source": [
    "data['clicks'] = np.sqrt(data.clicks)\n",
    "sns.distplot(data['clicks'], fit=norm);\n",
    "fig = plt.figure()\n",
    "res = stats.probplot(data['clicks'], plot=plt)"
   ]
  },
  {
   "cell_type": "code",
   "execution_count": 17,
   "id": "4b378446",
   "metadata": {},
   "outputs": [
    {
     "data": {
      "image/png": "[encoded data removed]",
      "text/plain": [
       "<Figure size 432x288 with 1 Axes>"
      ]
     },
     "metadata": {
      "needs_background": "light"
     },
     "output_type": "display_data"
    },
    {
     "data": {
      "image/png": "[encoded data removed]",
      "text/plain": [
       "<Figure size 432x288 with 1 Axes>"
      ]
     },
     "metadata": {
      "needs_background": "light"
     },
     "output_type": "display_data"
    }
   ],
   "source": [
    "data['cost'] = np.sqrt(data.cost)\n",
    "sns.distplot(data['cost'], fit=norm);\n",
    "fig = plt.figure()\n",
    "res = stats.probplot(data['cost'], plot=plt)"
   ]
  },
  {
   "cell_type": "code",
   "execution_count": 18,
   "id": "85d7a32a",
   "metadata": {},
   "outputs": [
    {
     "data": {
      "image/png": "[encoded data removed]",
      "text/plain": [
       "<Figure size 432x288 with 1 Axes>"
      ]
     },
     "metadata": {
      "needs_background": "light"
     },
     "output_type": "display_data"
    },
    {
     "data": {
      "image/png": "[encoded data removed]",
      "text/plain": [
       "<Figure size 432x288 with 1 Axes>"
      ]
     },
     "metadata": {
      "needs_background": "light"
     },
     "output_type": "display_data"
    }
   ],
   "source": [
    "data['conversions'] = np.sqrt(data.conversions)\n",
    "sns.distplot(data['conversions'], fit=norm);\n",
    "fig = plt.figure()\n",
    "res = stats.probplot(data['conversions'], plot=plt)"
   ]
  },
  {
   "cell_type": "code",
   "execution_count": 19,
   "id": "07c3270f",
   "metadata": {},
   "outputs": [],
   "source": [
    "#One Hot Encoding the adgroup column\n",
    "dum = pd.get_dummies(data.adgroup)\n",
    "data = pd.concat([data,dum],axis='columns')\n",
    "data.drop(['adgroup'],axis='columns',inplace=True)"
   ]
  },
  {
   "cell_type": "code",
   "execution_count": 20,
   "id": "e4e94774",
   "metadata": {},
   "outputs": [
    {
     "data": {
      "text/plain": [
       "Index(['date', 'campaign', 'ad', 'impressions', 'clicks', 'cost',\n",
       "       'conversions', 'revenue', 'adgroup 1', 'adgroup 2', 'adgroup 3',\n",
       "       'adgroup 4'],\n",
       "      dtype='object')"
      ]
     },
     "execution_count": 20,
     "metadata": {},
     "output_type": "execute_result"
    }
   ],
   "source": [
    "data.columns"
   ]
  },
  {
   "cell_type": "code",
   "execution_count": 21,
   "id": "2d1357c0",
   "metadata": {},
   "outputs": [
    {
     "data": {
      "text/html": [
       "<div>\n",
       "<style scoped>\n",
       "    .dataframe tbody tr th:only-of-type {\n",
       "        vertical-align: middle;\n",
       "    }\n",
       "\n",
       "    .dataframe tbody tr th {\n",
       "        vertical-align: top;\n",
       "    }\n",
       "\n",
       "    .dataframe thead th {\n",
       "        text-align: right;\n",
       "    }\n",
       "</style>\n",
       "<table border=\"1\" class=\"dataframe\">\n",
       "  <thead>\n",
       "    <tr style=\"text-align: right;\">\n",
       "      <th></th>\n",
       "      <th>date</th>\n",
       "      <th>campaign</th>\n",
       "      <th>ad</th>\n",
       "      <th>impressions</th>\n",
       "      <th>clicks</th>\n",
       "      <th>cost</th>\n",
       "      <th>conversions</th>\n",
       "      <th>revenue</th>\n",
       "      <th>adgroup 1</th>\n",
       "      <th>adgroup 2</th>\n",
       "      <th>adgroup 3</th>\n",
       "      <th>adgroup 4</th>\n",
       "    </tr>\n",
       "  </thead>\n",
       "  <tbody>\n",
       "    <tr>\n",
       "      <th>0</th>\n",
       "      <td>01-08-2020</td>\n",
       "      <td>campaign 1</td>\n",
       "      <td>ad 1</td>\n",
       "      <td>3.178054</td>\n",
       "      <td>2.449490</td>\n",
       "      <td>0.282843</td>\n",
       "      <td>0.0</td>\n",
       "      <td>0.00</td>\n",
       "      <td>1</td>\n",
       "      <td>0</td>\n",
       "      <td>0</td>\n",
       "      <td>0</td>\n",
       "    </tr>\n",
       "    <tr>\n",
       "      <th>1</th>\n",
       "      <td>01-08-2020</td>\n",
       "      <td>campaign 1</td>\n",
       "      <td>ad 1</td>\n",
       "      <td>0.000000</td>\n",
       "      <td>0.000000</td>\n",
       "      <td>0.000000</td>\n",
       "      <td>0.0</td>\n",
       "      <td>0.00</td>\n",
       "      <td>0</td>\n",
       "      <td>1</td>\n",
       "      <td>0</td>\n",
       "      <td>0</td>\n",
       "    </tr>\n",
       "    <tr>\n",
       "      <th>2</th>\n",
       "      <td>01-08-2020</td>\n",
       "      <td>campaign 1</td>\n",
       "      <td>ad 1</td>\n",
       "      <td>2.564949</td>\n",
       "      <td>2.000000</td>\n",
       "      <td>0.200000</td>\n",
       "      <td>0.0</td>\n",
       "      <td>0.00</td>\n",
       "      <td>0</td>\n",
       "      <td>0</td>\n",
       "      <td>1</td>\n",
       "      <td>0</td>\n",
       "    </tr>\n",
       "    <tr>\n",
       "      <th>3</th>\n",
       "      <td>01-08-2020</td>\n",
       "      <td>campaign 1</td>\n",
       "      <td>ad 1</td>\n",
       "      <td>1.609438</td>\n",
       "      <td>2.000000</td>\n",
       "      <td>0.282843</td>\n",
       "      <td>0.0</td>\n",
       "      <td>0.00</td>\n",
       "      <td>0</td>\n",
       "      <td>0</td>\n",
       "      <td>0</td>\n",
       "      <td>1</td>\n",
       "    </tr>\n",
       "    <tr>\n",
       "      <th>4</th>\n",
       "      <td>01-08-2020</td>\n",
       "      <td>campaign 1</td>\n",
       "      <td>ad 2</td>\n",
       "      <td>5.509388</td>\n",
       "      <td>11.224972</td>\n",
       "      <td>1.135782</td>\n",
       "      <td>2.0</td>\n",
       "      <td>925.71</td>\n",
       "      <td>1</td>\n",
       "      <td>0</td>\n",
       "      <td>0</td>\n",
       "      <td>0</td>\n",
       "    </tr>\n",
       "  </tbody>\n",
       "</table>\n",
       "</div>"
      ],
      "text/plain": [
       "         date    campaign    ad  impressions     clicks      cost  \\\n",
       "0  01-08-2020  campaign 1  ad 1     3.178054   2.449490  0.282843   \n",
       "1  01-08-2020  campaign 1  ad 1     0.000000   0.000000  0.000000   \n",
       "2  01-08-2020  campaign 1  ad 1     2.564949   2.000000  0.200000   \n",
       "3  01-08-2020  campaign 1  ad 1     1.609438   2.000000  0.282843   \n",
       "4  01-08-2020  campaign 1  ad 2     5.509388  11.224972  1.135782   \n",
       "\n",
       "   conversions  revenue  adgroup 1  adgroup 2  adgroup 3  adgroup 4  \n",
       "0          0.0     0.00          1          0          0          0  \n",
       "1          0.0     0.00          0          1          0          0  \n",
       "2          0.0     0.00          0          0          1          0  \n",
       "3          0.0     0.00          0          0          0          1  \n",
       "4          2.0   925.71          1          0          0          0  "
      ]
     },
     "execution_count": 21,
     "metadata": {},
     "output_type": "execute_result"
    }
   ],
   "source": [
    "#New 4 columns for adgroup are formed\n",
    "data.head()"
   ]
  },
  {
   "cell_type": "code",
   "execution_count": 22,
   "id": "ebf7cc59",
   "metadata": {},
   "outputs": [
    {
     "name": "stdout",
     "output_type": "stream",
     "text": [
      "date            object\n",
      "campaign        object\n",
      "ad               int32\n",
      "impressions    float64\n",
      "clicks         float64\n",
      "cost           float64\n",
      "conversions    float64\n",
      "revenue        float64\n",
      "adgroup 1        uint8\n",
      "adgroup 2        uint8\n",
      "adgroup 3        uint8\n",
      "adgroup 4        uint8\n",
      "dtype: object\n"
     ]
    },
    {
     "data": {
      "text/html": [
       "<div>\n",
       "<style scoped>\n",
       "    .dataframe tbody tr th:only-of-type {\n",
       "        vertical-align: middle;\n",
       "    }\n",
       "\n",
       "    .dataframe tbody tr th {\n",
       "        vertical-align: top;\n",
       "    }\n",
       "\n",
       "    .dataframe thead th {\n",
       "        text-align: right;\n",
       "    }\n",
       "</style>\n",
       "<table border=\"1\" class=\"dataframe\">\n",
       "  <thead>\n",
       "    <tr style=\"text-align: right;\">\n",
       "      <th></th>\n",
       "      <th>date</th>\n",
       "      <th>campaign</th>\n",
       "      <th>ad</th>\n",
       "      <th>impressions</th>\n",
       "      <th>clicks</th>\n",
       "      <th>cost</th>\n",
       "      <th>conversions</th>\n",
       "      <th>revenue</th>\n",
       "      <th>adgroup 1</th>\n",
       "      <th>adgroup 2</th>\n",
       "      <th>adgroup 3</th>\n",
       "      <th>adgroup 4</th>\n",
       "    </tr>\n",
       "  </thead>\n",
       "  <tbody>\n",
       "    <tr>\n",
       "      <th>0</th>\n",
       "      <td>01-08-2020</td>\n",
       "      <td>campaign 1</td>\n",
       "      <td>1</td>\n",
       "      <td>3.178054</td>\n",
       "      <td>2.449490</td>\n",
       "      <td>0.282843</td>\n",
       "      <td>0.0</td>\n",
       "      <td>0.00</td>\n",
       "      <td>1</td>\n",
       "      <td>0</td>\n",
       "      <td>0</td>\n",
       "      <td>0</td>\n",
       "    </tr>\n",
       "    <tr>\n",
       "      <th>1</th>\n",
       "      <td>01-08-2020</td>\n",
       "      <td>campaign 1</td>\n",
       "      <td>1</td>\n",
       "      <td>0.000000</td>\n",
       "      <td>0.000000</td>\n",
       "      <td>0.000000</td>\n",
       "      <td>0.0</td>\n",
       "      <td>0.00</td>\n",
       "      <td>0</td>\n",
       "      <td>1</td>\n",
       "      <td>0</td>\n",
       "      <td>0</td>\n",
       "    </tr>\n",
       "    <tr>\n",
       "      <th>2</th>\n",
       "      <td>01-08-2020</td>\n",
       "      <td>campaign 1</td>\n",
       "      <td>1</td>\n",
       "      <td>2.564949</td>\n",
       "      <td>2.000000</td>\n",
       "      <td>0.200000</td>\n",
       "      <td>0.0</td>\n",
       "      <td>0.00</td>\n",
       "      <td>0</td>\n",
       "      <td>0</td>\n",
       "      <td>1</td>\n",
       "      <td>0</td>\n",
       "    </tr>\n",
       "    <tr>\n",
       "      <th>3</th>\n",
       "      <td>01-08-2020</td>\n",
       "      <td>campaign 1</td>\n",
       "      <td>1</td>\n",
       "      <td>1.609438</td>\n",
       "      <td>2.000000</td>\n",
       "      <td>0.282843</td>\n",
       "      <td>0.0</td>\n",
       "      <td>0.00</td>\n",
       "      <td>0</td>\n",
       "      <td>0</td>\n",
       "      <td>0</td>\n",
       "      <td>1</td>\n",
       "    </tr>\n",
       "    <tr>\n",
       "      <th>4</th>\n",
       "      <td>01-08-2020</td>\n",
       "      <td>campaign 1</td>\n",
       "      <td>2</td>\n",
       "      <td>5.509388</td>\n",
       "      <td>11.224972</td>\n",
       "      <td>1.135782</td>\n",
       "      <td>2.0</td>\n",
       "      <td>925.71</td>\n",
       "      <td>1</td>\n",
       "      <td>0</td>\n",
       "      <td>0</td>\n",
       "      <td>0</td>\n",
       "    </tr>\n",
       "  </tbody>\n",
       "</table>\n",
       "</div>"
      ],
      "text/plain": [
       "         date    campaign  ad  impressions     clicks      cost  conversions  \\\n",
       "0  01-08-2020  campaign 1   1     3.178054   2.449490  0.282843          0.0   \n",
       "1  01-08-2020  campaign 1   1     0.000000   0.000000  0.000000          0.0   \n",
       "2  01-08-2020  campaign 1   1     2.564949   2.000000  0.200000          0.0   \n",
       "3  01-08-2020  campaign 1   1     1.609438   2.000000  0.282843          0.0   \n",
       "4  01-08-2020  campaign 1   2     5.509388  11.224972  1.135782          2.0   \n",
       "\n",
       "   revenue  adgroup 1  adgroup 2  adgroup 3  adgroup 4  \n",
       "0     0.00          1          0          0          0  \n",
       "1     0.00          0          1          0          0  \n",
       "2     0.00          0          0          1          0  \n",
       "3     0.00          0          0          0          1  \n",
       "4   925.71          1          0          0          0  "
      ]
     },
     "execution_count": 22,
     "metadata": {},
     "output_type": "execute_result"
    }
   ],
   "source": [
    "#Converting the ad attribute to integer type\n",
    "data['ad'] = data.ad.str.strip('ad ').astype(int)\n",
    "print(data.dtypes)\n",
    "data.head()"
   ]
  },
  {
   "cell_type": "markdown",
   "id": "12bad054",
   "metadata": {},
   "source": [
    "\n",
    "<div class=\"alert alert-block alert-info\"> <span style=\"font-size:17px;font-weight : bold;color:#AA0078\">Outlier Analysis and Removal</span></div>"
   ]
  },
  {
   "cell_type": "code",
   "execution_count": 23,
   "id": "45f4f5dd",
   "metadata": {
    "scrolled": true
   },
   "outputs": [
    {
     "data": {
      "image/png": "[encoded data removed]",
      "text/plain": [
       "<Figure size 432x288 with 1 Axes>"
      ]
     },
     "metadata": {
      "needs_background": "light"
     },
     "output_type": "display_data"
    }
   ],
   "source": [
    "plt.boxplot(data[['impressions','clicks','cost','conversions','revenue']], patch_artist = True,\n",
    "                notch ='True')\n",
    "plt.show()"
   ]
  },
  {
   "cell_type": "code",
   "execution_count": 24,
   "id": "7d3b2bf8",
   "metadata": {},
   "outputs": [
    {
     "data": {
      "text/plain": [
       "array([[<AxesSubplot:title={'center':'conversions'}>]], dtype=object)"
      ]
     },
     "execution_count": 24,
     "metadata": {},
     "output_type": "execute_result"
    },
    {
     "data": {
      "image/png": "[encoded data removed]",
      "text/plain": [
       "<Figure size 720x360 with 1 Axes>"
      ]
     },
     "metadata": {
      "needs_background": "light"
     },
     "output_type": "display_data"
    },
    {
     "data": {
      "image/png": "[encoded data removed]",
      "text/plain": [
       "<Figure size 720x360 with 1 Axes>"
      ]
     },
     "metadata": {
      "needs_background": "light"
     },
     "output_type": "display_data"
    },
    {
     "data": {
      "image/png": "[encoded data removed]",
      "text/plain": [
       "<Figure size 720x360 with 1 Axes>"
      ]
     },
     "metadata": {
      "needs_background": "light"
     },
     "output_type": "display_data"
    },
    {
     "data": {
      "image/png": "[encoded data removed]",
      "text/plain": [
       "<Figure size 720x360 with 1 Axes>"
      ]
     },
     "metadata": {
      "needs_background": "light"
     },
     "output_type": "display_data"
    }
   ],
   "source": [
    "#Plotting Histograms of the numerical attributes\n",
    "data.hist(column='impressions',bins=20,figsize=(10,5))\n",
    "data.hist(column='clicks',bins=20,figsize=(10,5))\n",
    "data.hist(column='cost',bins=20,figsize=(10,5))\n",
    "data.hist(column='conversions',bins=20,figsize=(10,5))"
   ]
  },
  {
   "cell_type": "code",
   "execution_count": 25,
   "id": "dca2d573",
   "metadata": {},
   "outputs": [
    {
     "data": {
      "text/html": [
       "<div>\n",
       "<style scoped>\n",
       "    .dataframe tbody tr th:only-of-type {\n",
       "        vertical-align: middle;\n",
       "    }\n",
       "\n",
       "    .dataframe tbody tr th {\n",
       "        vertical-align: top;\n",
       "    }\n",
       "\n",
       "    .dataframe thead th {\n",
       "        text-align: right;\n",
       "    }\n",
       "</style>\n",
       "<table border=\"1\" class=\"dataframe\">\n",
       "  <thead>\n",
       "    <tr style=\"text-align: right;\">\n",
       "      <th></th>\n",
       "      <th>date</th>\n",
       "      <th>campaign</th>\n",
       "      <th>ad</th>\n",
       "      <th>impressions</th>\n",
       "      <th>clicks</th>\n",
       "      <th>cost</th>\n",
       "      <th>conversions</th>\n",
       "      <th>revenue</th>\n",
       "      <th>adgroup 1</th>\n",
       "      <th>adgroup 2</th>\n",
       "      <th>adgroup 3</th>\n",
       "      <th>adgroup 4</th>\n",
       "    </tr>\n",
       "  </thead>\n",
       "  <tbody>\n",
       "    <tr>\n",
       "      <th>0</th>\n",
       "      <td>01-08-2020</td>\n",
       "      <td>campaign 1</td>\n",
       "      <td>1</td>\n",
       "      <td>3.178054</td>\n",
       "      <td>2.44949</td>\n",
       "      <td>0.282843</td>\n",
       "      <td>0.0</td>\n",
       "      <td>0.0</td>\n",
       "      <td>1</td>\n",
       "      <td>0</td>\n",
       "      <td>0</td>\n",
       "      <td>0</td>\n",
       "    </tr>\n",
       "    <tr>\n",
       "      <th>1</th>\n",
       "      <td>01-08-2020</td>\n",
       "      <td>campaign 1</td>\n",
       "      <td>1</td>\n",
       "      <td>0.000000</td>\n",
       "      <td>0.00000</td>\n",
       "      <td>0.000000</td>\n",
       "      <td>0.0</td>\n",
       "      <td>0.0</td>\n",
       "      <td>0</td>\n",
       "      <td>1</td>\n",
       "      <td>0</td>\n",
       "      <td>0</td>\n",
       "    </tr>\n",
       "  </tbody>\n",
       "</table>\n",
       "</div>"
      ],
      "text/plain": [
       "         date    campaign  ad  impressions   clicks      cost  conversions  \\\n",
       "0  01-08-2020  campaign 1   1     3.178054  2.44949  0.282843          0.0   \n",
       "1  01-08-2020  campaign 1   1     0.000000  0.00000  0.000000          0.0   \n",
       "\n",
       "   revenue  adgroup 1  adgroup 2  adgroup 3  adgroup 4  \n",
       "0      0.0          1          0          0          0  \n",
       "1      0.0          0          1          0          0  "
      ]
     },
     "execution_count": 25,
     "metadata": {},
     "output_type": "execute_result"
    }
   ],
   "source": [
    "data.head(2)"
   ]
  },
  {
   "cell_type": "code",
   "execution_count": 26,
   "id": "3bbab183",
   "metadata": {},
   "outputs": [
    {
     "data": {
      "text/plain": [
       "ad               int32\n",
       "impressions    float64\n",
       "clicks         float64\n",
       "cost           float64\n",
       "conversions    float64\n",
       "revenue        float64\n",
       "adgroup 1        uint8\n",
       "adgroup 2        uint8\n",
       "adgroup 3        uint8\n",
       "adgroup 4        uint8\n",
       "dtype: object"
      ]
     },
     "execution_count": 26,
     "metadata": {},
     "output_type": "execute_result"
    }
   ],
   "source": [
    "#Processing the train data\n",
    "train = data.drop(['date','campaign'], axis=1)\n",
    "train.dtypes"
   ]
  },
  {
   "cell_type": "code",
   "execution_count": 27,
   "id": "a8c8fefc",
   "metadata": {
    "scrolled": true
   },
   "outputs": [
    {
     "name": "stdout",
     "output_type": "stream",
     "text": [
      "Before Outlier Ananlysis No. of records->  (4571, 10)\n",
      "After Outlier Ananlysis No. of records ->  (4433, 10)\n"
     ]
    }
   ],
   "source": [
    "z_scores = stats.zscore(train)\n",
    "abs_z_scores = np.abs(z_scores)\n",
    "filtered_entries = (abs_z_scores < 3).all(axis=1)\n",
    "train_no = train[filtered_entries]"
   ]
  },
  {
   "cell_type": "markdown",
   "id": "17587a6a",
   "metadata": {},
   "source": [
    "<span style=\"font-size:18px;color:#AA0078\"> **138 records have been removed after the outlier analysis </span>"
   ]
  },
  {
   "cell_type": "code",
   "execution_count": 28,
   "id": "dfa7b245",
   "metadata": {
    "scrolled": true
   },
   "outputs": [
    {
     "data": {
      "text/html": [
       "<div>\n",
       "<style scoped>\n",
       "    .dataframe tbody tr th:only-of-type {\n",
       "        vertical-align: middle;\n",
       "    }\n",
       "\n",
       "    .dataframe tbody tr th {\n",
       "        vertical-align: top;\n",
       "    }\n",
       "\n",
       "    .dataframe thead th {\n",
       "        text-align: right;\n",
       "    }\n",
       "</style>\n",
       "<table border=\"1\" class=\"dataframe\">\n",
       "  <thead>\n",
       "    <tr style=\"text-align: right;\">\n",
       "      <th></th>\n",
       "      <th>ad</th>\n",
       "      <th>impressions</th>\n",
       "      <th>clicks</th>\n",
       "      <th>cost</th>\n",
       "      <th>conversions</th>\n",
       "      <th>revenue</th>\n",
       "      <th>adgroup 1</th>\n",
       "      <th>adgroup 2</th>\n",
       "      <th>adgroup 3</th>\n",
       "      <th>adgroup 4</th>\n",
       "    </tr>\n",
       "  </thead>\n",
       "  <tbody>\n",
       "    <tr>\n",
       "      <th>0</th>\n",
       "      <td>1</td>\n",
       "      <td>3.178054</td>\n",
       "      <td>2.449490</td>\n",
       "      <td>0.282843</td>\n",
       "      <td>0.0</td>\n",
       "      <td>0.00</td>\n",
       "      <td>1</td>\n",
       "      <td>0</td>\n",
       "      <td>0</td>\n",
       "      <td>0</td>\n",
       "    </tr>\n",
       "    <tr>\n",
       "      <th>1</th>\n",
       "      <td>1</td>\n",
       "      <td>0.000000</td>\n",
       "      <td>0.000000</td>\n",
       "      <td>0.000000</td>\n",
       "      <td>0.0</td>\n",
       "      <td>0.00</td>\n",
       "      <td>0</td>\n",
       "      <td>1</td>\n",
       "      <td>0</td>\n",
       "      <td>0</td>\n",
       "    </tr>\n",
       "    <tr>\n",
       "      <th>2</th>\n",
       "      <td>1</td>\n",
       "      <td>2.564949</td>\n",
       "      <td>2.000000</td>\n",
       "      <td>0.200000</td>\n",
       "      <td>0.0</td>\n",
       "      <td>0.00</td>\n",
       "      <td>0</td>\n",
       "      <td>0</td>\n",
       "      <td>1</td>\n",
       "      <td>0</td>\n",
       "    </tr>\n",
       "    <tr>\n",
       "      <th>3</th>\n",
       "      <td>1</td>\n",
       "      <td>1.609438</td>\n",
       "      <td>2.000000</td>\n",
       "      <td>0.282843</td>\n",
       "      <td>0.0</td>\n",
       "      <td>0.00</td>\n",
       "      <td>0</td>\n",
       "      <td>0</td>\n",
       "      <td>0</td>\n",
       "      <td>1</td>\n",
       "    </tr>\n",
       "    <tr>\n",
       "      <th>4</th>\n",
       "      <td>2</td>\n",
       "      <td>5.509388</td>\n",
       "      <td>11.224972</td>\n",
       "      <td>1.135782</td>\n",
       "      <td>2.0</td>\n",
       "      <td>925.71</td>\n",
       "      <td>1</td>\n",
       "      <td>0</td>\n",
       "      <td>0</td>\n",
       "      <td>0</td>\n",
       "    </tr>\n",
       "  </tbody>\n",
       "</table>\n",
       "</div>"
      ],
      "text/plain": [
       "   ad  impressions     clicks      cost  conversions  revenue  adgroup 1  \\\n",
       "0   1     3.178054   2.449490  0.282843          0.0     0.00          1   \n",
       "1   1     0.000000   0.000000  0.000000          0.0     0.00          0   \n",
       "2   1     2.564949   2.000000  0.200000          0.0     0.00          0   \n",
       "3   1     1.609438   2.000000  0.282843          0.0     0.00          0   \n",
       "4   2     5.509388  11.224972  1.135782          2.0   925.71          1   \n",
       "\n",
       "   adgroup 2  adgroup 3  adgroup 4  \n",
       "0          0          0          0  \n",
       "1          1          0          0  \n",
       "2          0          1          0  \n",
       "3          0          0          1  \n",
       "4          0          0          0  "
      ]
     },
     "execution_count": 28,
     "metadata": {},
     "output_type": "execute_result"
    }
   ],
   "source": [
    "train.head()"
   ]
  },
  {
   "cell_type": "markdown",
   "id": "9bbee251",
   "metadata": {},
   "source": [
    "<div class=\"alert alert-block alert-info\"> <span style=\"font-size:17px;font-weight : bold;color:#AA0078\">Scaling the data to fit the model better </span></div>"
   ]
  },
  {
   "cell_type": "code",
   "execution_count": 29,
   "id": "3c675f79",
   "metadata": {
    "scrolled": false
   },
   "outputs": [
    {
     "data": {
      "text/plain": [
       "<bound method Series.count of 0        0.000000\n",
       "1        0.000000\n",
       "2        0.000000\n",
       "3        0.000000\n",
       "4       30.425483\n",
       "          ...    \n",
       "4566     0.000000\n",
       "4567     0.000000\n",
       "4568     9.654015\n",
       "4569     0.000000\n",
       "4570     0.000000\n",
       "Name: revenue, Length: 4433, dtype: float64>"
      ]
     },
     "execution_count": 29,
     "metadata": {},
     "output_type": "execute_result"
    }
   ],
   "source": [
    "Y_scaled = np.sqrt(train_no.revenue)\n",
    "Y_scaled.count"
   ]
  },
  {
   "cell_type": "code",
   "execution_count": 30,
   "id": "dda3e3b3",
   "metadata": {},
   "outputs": [],
   "source": [
    "train_no.drop('revenue', axis=1, inplace=True)"
   ]
  },
  {
   "cell_type": "code",
   "execution_count": 31,
   "id": "9dc82daf",
   "metadata": {},
   "outputs": [],
   "source": [
    "from sklearn.preprocessing import StandardScaler\n",
    "scaler = StandardScaler()\n",
    "X_train_scaled = scaler.fit_transform(train_no)"
   ]
  },
  {
   "cell_type": "code",
   "execution_count": 32,
   "id": "852139a8",
   "metadata": {},
   "outputs": [],
   "source": [
    "#Splitting Data into trian and test data \n",
    "from sklearn.model_selection import train_test_split\n",
    "train_x, test_x, train_y, test_y = train_test_split(X_train_scaled,Y_scaled, test_size=0.2, random_state=20)"
   ]
  },
  {
   "cell_type": "markdown",
   "id": "f681a3e0",
   "metadata": {},
   "source": [
    "<div class=\"alert alert-block alert-info\"> <span style=\"font-size:17px;font-weight : bold;color:#AA0078\"> Training Random Forest Regression Model with Hyperparamter tuning - Model 1</span></div>"
   ]
  },
  {
   "cell_type": "code",
   "execution_count": 33,
   "id": "2ae33e39",
   "metadata": {},
   "outputs": [
    {
     "data": {
      "text/plain": [
       "RandomForestRegressor(min_samples_split=100, random_state=1)"
      ]
     },
     "execution_count": 33,
     "metadata": {},
     "output_type": "execute_result"
    }
   ],
   "source": [
    "model1 = RandomForestRegressor(n_estimators=100, min_samples_split=100, random_state=1)\n",
    "model1.fit(train_x,train_y)"
   ]
  },
  {
   "cell_type": "markdown",
   "id": "9766665b",
   "metadata": {},
   "source": [
    "<div class=\"alert alert-block alert-info\"> <span style=\"font-size:17px;font-weight : bold;color:#AA0078\"> Validating Model 1 </span></div>"
   ]
  },
  {
   "cell_type": "code",
   "execution_count": 34,
   "id": "64db613b",
   "metadata": {},
   "outputs": [
    {
     "name": "stdout",
     "output_type": "stream",
     "text": [
      "Mean Sqaured Error for Train Data :  7.3107543784173075\n"
     ]
    }
   ],
   "source": [
    "print(\"Mean Sqaured Error for Train Data : \",mean_squared_error(train_y, model1.predict(train_x)))"
   ]
  },
  {
   "cell_type": "code",
   "execution_count": 35,
   "id": "995b1c26",
   "metadata": {},
   "outputs": [
    {
     "name": "stdout",
     "output_type": "stream",
     "text": [
      "Mean Sqaured Error for Test Data :  7.37014329432036\n"
     ]
    }
   ],
   "source": [
    "print(\"Mean Sqaured Error for Test Data : \",mean_squared_error(test_y, model1.predict(test_x)))"
   ]
  },
  {
   "cell_type": "code",
   "execution_count": 36,
   "id": "ff7b35a4",
   "metadata": {
    "scrolled": true
   },
   "outputs": [
    {
     "name": "stdout",
     "output_type": "stream",
     "text": [
      "Model 1 Score =  92.08 %\n"
     ]
    }
   ],
   "source": [
    "print(\"Model 1 Score = \",round(model1.score(train_x, train_y)*100,2),\"%\")"
   ]
  },
  {
   "cell_type": "code",
   "execution_count": 37,
   "id": "801bc91a",
   "metadata": {},
   "outputs": [
    {
     "name": "stdout",
     "output_type": "stream",
     "text": [
      "Model 1 R2 Score =  90.81 %\n"
     ]
    }
   ],
   "source": [
    "from sklearn.metrics import r2_score\n",
    "m1r2 = r2_score(model1.predict(test_x),test_y)*100\n",
    "print(\"Model 1 R2 Score = \",round(m1r2,2),\"%\")"
   ]
  },
  {
   "cell_type": "markdown",
   "id": "2f5d10db",
   "metadata": {},
   "source": [
    "<div class=\"alert alert-block alert-info\"> <span style=\"font-size:17px;font-weight : bold;color:#AA0078\">Adding additional features to improve the performance of model </span></div>"
   ]
  },
  {
   "cell_type": "code",
   "execution_count": 38,
   "id": "1efc1401",
   "metadata": {},
   "outputs": [],
   "source": [
    "data['CTR'] = (data.clicks)/data.impressions\n",
    "data['CPC'] = data.cost/data.clicks\n",
    "data['CPA'] = data.cost/data.conversions\n",
    "data.replace([np.inf, -np.inf], np.nan, inplace=True)\n",
    "data.fillna(data.median(),inplace=True)"
   ]
  },
  {
   "cell_type": "markdown",
   "id": "bd5867c9",
   "metadata": {},
   "source": [
    "<div class=\"alert alert-block alert-info\"> <span style=\"font-size:17px;font-weight : bold;color:#AA0078\"> Visualising New Features</span></div>"
   ]
  },
  {
   "cell_type": "code",
   "execution_count": 39,
   "id": "16e4726f",
   "metadata": {},
   "outputs": [
    {
     "data": {
      "text/plain": [
       "array([[<AxesSubplot:title={'center':'CTR'}>]], dtype=object)"
      ]
     },
     "execution_count": 39,
     "metadata": {},
     "output_type": "execute_result"
    },
    {
     "data": {
      "image/png": "[encoded data removed]",
      "text/plain": [
       "<Figure size 720x360 with 1 Axes>"
      ]
     },
     "metadata": {
      "needs_background": "light"
     },
     "output_type": "display_data"
    },
    {
     "data": {
      "image/png": "[encoded data removed]",
      "text/plain": [
       "<Figure size 720x360 with 1 Axes>"
      ]
     },
     "metadata": {
      "needs_background": "light"
     },
     "output_type": "display_data"
    },
    {
     "data": {
      "image/png": "[encoded data removed]",
      "text/plain": [
       "<Figure size 720x360 with 1 Axes>"
      ]
     },
     "metadata": {
      "needs_background": "light"
     },
     "output_type": "display_data"
    }
   ],
   "source": [
    "data.hist(column='CPA',bins=20,figsize=(10,5))\n",
    "data.hist(column='CPC',bins=20,figsize=(10,5))\n",
    "data.hist(column='CTR',bins=20,figsize=(10,5))"
   ]
  },
  {
   "cell_type": "code",
   "execution_count": 40,
   "id": "2a09675c",
   "metadata": {},
   "outputs": [
    {
     "data": {
      "text/plain": [
       "ad               int32\n",
       "impressions    float64\n",
       "clicks         float64\n",
       "cost           float64\n",
       "conversions    float64\n",
       "revenue        float64\n",
       "adgroup 1        uint8\n",
       "adgroup 2        uint8\n",
       "adgroup 3        uint8\n",
       "adgroup 4        uint8\n",
       "CTR            float64\n",
       "CPC            float64\n",
       "CPA            float64\n",
       "dtype: object"
      ]
     },
     "execution_count": 40,
     "metadata": {},
     "output_type": "execute_result"
    }
   ],
   "source": [
    "#Processing the train data\n",
    "train2 = data.drop(['date','campaign'], axis=1)\n",
    "train2.dtypes"
   ]
  },
  {
   "cell_type": "markdown",
   "id": "34e952d8",
   "metadata": {},
   "source": [
    "\n",
    "<div class=\"alert alert-block alert-info\"> <span style=\"font-size:17px;font-weight : bold;color:#AA0078\">Outlier Analysis and Removal with New Features</span></div>"
   ]
  },
  {
   "cell_type": "code",
   "execution_count": 41,
   "id": "62722693",
   "metadata": {},
   "outputs": [
    {
     "name": "stdout",
     "output_type": "stream",
     "text": [
      "(4571, 13)\n",
      "(4433, 13)\n"
     ]
    }
   ],
   "source": [
    "z_scores2 = stats.zscore(train2)\n",
    "abs_z_scores2 = np.abs(z_scores2)\n",
    "filtered_entries2 = (abs_z_scores < 3).all(axis=1)\n",
    "train_no2 = train2[filtered_entries2]\n",
    "print(train2.shape)\n",
    "print(train_no2.shape)"
   ]
  },
  {
   "cell_type": "markdown",
   "id": "d27a4bc9",
   "metadata": {},
   "source": [
    "<span style=\"font-size:18px;color:#AA0078\"> **138 records have been removed after the outlier analysis </span>"
   ]
  },
  {
   "cell_type": "code",
   "execution_count": 42,
   "id": "fa7f7e4a",
   "metadata": {},
   "outputs": [
    {
     "data": {
      "text/html": [
       "<div>\n",
       "<style scoped>\n",
       "    .dataframe tbody tr th:only-of-type {\n",
       "        vertical-align: middle;\n",
       "    }\n",
       "\n",
       "    .dataframe tbody tr th {\n",
       "        vertical-align: top;\n",
       "    }\n",
       "\n",
       "    .dataframe thead th {\n",
       "        text-align: right;\n",
       "    }\n",
       "</style>\n",
       "<table border=\"1\" class=\"dataframe\">\n",
       "  <thead>\n",
       "    <tr style=\"text-align: right;\">\n",
       "      <th></th>\n",
       "      <th>ad</th>\n",
       "      <th>impressions</th>\n",
       "      <th>clicks</th>\n",
       "      <th>cost</th>\n",
       "      <th>conversions</th>\n",
       "      <th>revenue</th>\n",
       "      <th>adgroup 1</th>\n",
       "      <th>adgroup 2</th>\n",
       "      <th>adgroup 3</th>\n",
       "      <th>adgroup 4</th>\n",
       "      <th>CTR</th>\n",
       "      <th>CPC</th>\n",
       "      <th>CPA</th>\n",
       "    </tr>\n",
       "  </thead>\n",
       "  <tbody>\n",
       "    <tr>\n",
       "      <th>0</th>\n",
       "      <td>1</td>\n",
       "      <td>3.178054</td>\n",
       "      <td>2.449490</td>\n",
       "      <td>0.282843</td>\n",
       "      <td>0.0</td>\n",
       "      <td>0.00</td>\n",
       "      <td>1</td>\n",
       "      <td>0</td>\n",
       "      <td>0</td>\n",
       "      <td>0</td>\n",
       "      <td>0.770751</td>\n",
       "      <td>0.115470</td>\n",
       "      <td>0.861683</td>\n",
       "    </tr>\n",
       "    <tr>\n",
       "      <th>1</th>\n",
       "      <td>1</td>\n",
       "      <td>0.000000</td>\n",
       "      <td>0.000000</td>\n",
       "      <td>0.000000</td>\n",
       "      <td>0.0</td>\n",
       "      <td>0.00</td>\n",
       "      <td>0</td>\n",
       "      <td>1</td>\n",
       "      <td>0</td>\n",
       "      <td>0</td>\n",
       "      <td>1.117971</td>\n",
       "      <td>0.135146</td>\n",
       "      <td>0.861683</td>\n",
       "    </tr>\n",
       "    <tr>\n",
       "      <th>2</th>\n",
       "      <td>1</td>\n",
       "      <td>2.564949</td>\n",
       "      <td>2.000000</td>\n",
       "      <td>0.200000</td>\n",
       "      <td>0.0</td>\n",
       "      <td>0.00</td>\n",
       "      <td>0</td>\n",
       "      <td>0</td>\n",
       "      <td>1</td>\n",
       "      <td>0</td>\n",
       "      <td>0.779742</td>\n",
       "      <td>0.100000</td>\n",
       "      <td>0.861683</td>\n",
       "    </tr>\n",
       "    <tr>\n",
       "      <th>3</th>\n",
       "      <td>1</td>\n",
       "      <td>1.609438</td>\n",
       "      <td>2.000000</td>\n",
       "      <td>0.282843</td>\n",
       "      <td>0.0</td>\n",
       "      <td>0.00</td>\n",
       "      <td>0</td>\n",
       "      <td>0</td>\n",
       "      <td>0</td>\n",
       "      <td>1</td>\n",
       "      <td>1.242670</td>\n",
       "      <td>0.141421</td>\n",
       "      <td>0.861683</td>\n",
       "    </tr>\n",
       "    <tr>\n",
       "      <th>4</th>\n",
       "      <td>2</td>\n",
       "      <td>5.509388</td>\n",
       "      <td>11.224972</td>\n",
       "      <td>1.135782</td>\n",
       "      <td>2.0</td>\n",
       "      <td>925.71</td>\n",
       "      <td>1</td>\n",
       "      <td>0</td>\n",
       "      <td>0</td>\n",
       "      <td>0</td>\n",
       "      <td>2.037426</td>\n",
       "      <td>0.101183</td>\n",
       "      <td>0.567891</td>\n",
       "    </tr>\n",
       "  </tbody>\n",
       "</table>\n",
       "</div>"
      ],
      "text/plain": [
       "   ad  impressions     clicks      cost  conversions  revenue  adgroup 1  \\\n",
       "0   1     3.178054   2.449490  0.282843          0.0     0.00          1   \n",
       "1   1     0.000000   0.000000  0.000000          0.0     0.00          0   \n",
       "2   1     2.564949   2.000000  0.200000          0.0     0.00          0   \n",
       "3   1     1.609438   2.000000  0.282843          0.0     0.00          0   \n",
       "4   2     5.509388  11.224972  1.135782          2.0   925.71          1   \n",
       "\n",
       "   adgroup 2  adgroup 3  adgroup 4       CTR       CPC       CPA  \n",
       "0          0          0          0  0.770751  0.115470  0.861683  \n",
       "1          1          0          0  1.117971  0.135146  0.861683  \n",
       "2          0          1          0  0.779742  0.100000  0.861683  \n",
       "3          0          0          1  1.242670  0.141421  0.861683  \n",
       "4          0          0          0  2.037426  0.101183  0.567891  "
      ]
     },
     "execution_count": 42,
     "metadata": {},
     "output_type": "execute_result"
    }
   ],
   "source": [
    "train2.head()"
   ]
  },
  {
   "cell_type": "markdown",
   "id": "09e60668",
   "metadata": {},
   "source": [
    "<div class=\"alert alert-block alert-info\"> <span style=\"font-size:17px;font-weight : bold;color:#AA0078\">Scaling the data to fit the new Model Better </span></div>"
   ]
  },
  {
   "cell_type": "code",
   "execution_count": 43,
   "id": "af64aec3",
   "metadata": {},
   "outputs": [
    {
     "data": {
      "text/plain": [
       "<bound method Series.count of 0        0.000000\n",
       "1        0.000000\n",
       "2        0.000000\n",
       "3        0.000000\n",
       "4       30.425483\n",
       "          ...    \n",
       "4566     0.000000\n",
       "4567     0.000000\n",
       "4568     9.654015\n",
       "4569     0.000000\n",
       "4570     0.000000\n",
       "Name: revenue, Length: 4433, dtype: float64>"
      ]
     },
     "execution_count": 43,
     "metadata": {},
     "output_type": "execute_result"
    }
   ],
   "source": [
    "Y_scaled2 = np.sqrt(train_no2.revenue)\n",
    "Y_scaled2.count"
   ]
  },
  {
   "cell_type": "code",
   "execution_count": 44,
   "id": "8d5a0319",
   "metadata": {},
   "outputs": [],
   "source": [
    "train_no2.drop('revenue', axis=1, inplace=True)"
   ]
  },
  {
   "cell_type": "code",
   "execution_count": 45,
   "id": "c79fec20",
   "metadata": {},
   "outputs": [],
   "source": [
    "from sklearn.preprocessing import StandardScaler\n",
    "scaler2 = StandardScaler()\n",
    "X_train_scaled2 = scaler2.fit_transform(train_no2)"
   ]
  },
  {
   "cell_type": "code",
   "execution_count": 46,
   "id": "38502593",
   "metadata": {},
   "outputs": [],
   "source": [
    "#Splitting Data into trian and test data \n",
    "from sklearn.model_selection import train_test_split\n",
    "train_x2, test_x2, train_y2, test_y2 = train_test_split(X_train_scaled2,Y_scaled2, test_size=0.2, random_state=20)"
   ]
  },
  {
   "cell_type": "markdown",
   "id": "d41e3b3f",
   "metadata": {},
   "source": [
    "<div class=\"alert alert-block alert-info\"> <span style=\"font-size:17px;font-weight : bold;color:#AA0078\"> Training Random Forest Regression Model with New Features Hyperparamter tuning - Model 2 </span></div>"
   ]
  },
  {
   "cell_type": "code",
   "execution_count": 47,
   "id": "232a9820",
   "metadata": {},
   "outputs": [
    {
     "data": {
      "text/plain": [
       "RandomForestRegressor(min_samples_split=50, random_state=1)"
      ]
     },
     "execution_count": 47,
     "metadata": {},
     "output_type": "execute_result"
    }
   ],
   "source": [
    "model2 = RandomForestRegressor(n_estimators=100, min_samples_split=50, random_state=1)\n",
    "model2.fit(train_x2,train_y2)"
   ]
  },
  {
   "cell_type": "markdown",
   "id": "1369c624",
   "metadata": {},
   "source": [
    "<div class=\"alert alert-block alert-info\"> <span style=\"font-size:17px;font-weight : bold;color:#AA0078\"> Validating Model 2</span></div>"
   ]
  },
  {
   "cell_type": "code",
   "execution_count": 48,
   "id": "3cfe944c",
   "metadata": {},
   "outputs": [
    {
     "name": "stdout",
     "output_type": "stream",
     "text": [
      "Mean Sqaured Error for Train Data :  6.067590477194256\n"
     ]
    }
   ],
   "source": [
    "print(\"Mean Sqaured Error for Train Data : \",mean_squared_error(train_y2, model2.predict(train_x2)))"
   ]
  },
  {
   "cell_type": "code",
   "execution_count": 49,
   "id": "77a26282",
   "metadata": {},
   "outputs": [
    {
     "name": "stdout",
     "output_type": "stream",
     "text": [
      "Mean Sqaured Error for Test Data :  7.1681076798217305\n"
     ]
    }
   ],
   "source": [
    "print(\"Mean Sqaured Error for Test Data : \",mean_squared_error(test_y2, model2.predict(test_x2)))"
   ]
  },
  {
   "cell_type": "code",
   "execution_count": 50,
   "id": "73f8ca86",
   "metadata": {
    "scrolled": true
   },
   "outputs": [
    {
     "name": "stdout",
     "output_type": "stream",
     "text": [
      "Model 2 Score =  93.42 %\n"
     ]
    }
   ],
   "source": [
    "print(\"Model 2 Score = \",round(model2.score(train_x2, train_y2)*100,2),\"%\")"
   ]
  },
  {
   "cell_type": "code",
   "execution_count": 51,
   "id": "3697b5cb",
   "metadata": {},
   "outputs": [
    {
     "name": "stdout",
     "output_type": "stream",
     "text": [
      "Model 2 R2 Score =  91.25 %\n"
     ]
    }
   ],
   "source": [
    "m2r2 = r2_score(model2.predict(test_x2),test_y2)*100\n",
    "print(\"Model 2 R2 Score = \",round(m2r2,2),\"%\")"
   ]
  },
  {
   "cell_type": "markdown",
   "id": "f6f0df26",
   "metadata": {},
   "source": [
    "<div class=\"alert alert-block alert-info\"> <span style=\"font-size:18px;font-weight : bold;color:#AA0078\"> Linear Regression - Model 3</span></div>"
   ]
  },
  {
   "cell_type": "code",
   "execution_count": 52,
   "id": "1f86de7d",
   "metadata": {},
   "outputs": [],
   "source": [
    "#Trying to fit linear regression model to the data\n",
    "model3 = LinearRegression()"
   ]
  },
  {
   "cell_type": "code",
   "execution_count": 53,
   "id": "703e3b20",
   "metadata": {},
   "outputs": [
    {
     "data": {
      "text/plain": [
       "LinearRegression()"
      ]
     },
     "execution_count": 53,
     "metadata": {},
     "output_type": "execute_result"
    }
   ],
   "source": [
    "model3.fit(train_x2,train_y2)"
   ]
  },
  {
   "cell_type": "markdown",
   "id": "57da1237",
   "metadata": {},
   "source": [
    "<div class=\"alert alert-block alert-info\"> <span style=\"font-size:17px;font-weight : bold;color:#AA0078\"> Validating Model 3 </span></div>"
   ]
  },
  {
   "cell_type": "code",
   "execution_count": 54,
   "id": "d7a04f29",
   "metadata": {},
   "outputs": [
    {
     "name": "stdout",
     "output_type": "stream",
     "text": [
      "Mean Sqaured Error for Train Data :  7.681213851488196\n"
     ]
    }
   ],
   "source": [
    "print(\"Mean Sqaured Error for Train Data : \",mean_squared_error(train_y2, model3.predict(train_x2)))"
   ]
  },
  {
   "cell_type": "code",
   "execution_count": 55,
   "id": "9506ac56",
   "metadata": {},
   "outputs": [
    {
     "name": "stdout",
     "output_type": "stream",
     "text": [
      "Mean Sqaured Error for Test Data :  7.028119397098421\n"
     ]
    }
   ],
   "source": [
    "print(\"Mean Sqaured Error for Test Data : \",mean_squared_error(test_y2, model3.predict(test_x2)))"
   ]
  },
  {
   "cell_type": "code",
   "execution_count": 56,
   "id": "83ac899d",
   "metadata": {
    "scrolled": false
   },
   "outputs": [
    {
     "name": "stdout",
     "output_type": "stream",
     "text": [
      "Model 3 Score =  91.67 %\n"
     ]
    }
   ],
   "source": [
    "print(\"Model 3 Score = \",round(model3.score(train_x2, train_y2)*100,2), '%')"
   ]
  },
  {
   "cell_type": "code",
   "execution_count": 57,
   "id": "24d9a4ae",
   "metadata": {},
   "outputs": [
    {
     "name": "stdout",
     "output_type": "stream",
     "text": [
      "Model 3 R2 Score =  91.41 %\n"
     ]
    }
   ],
   "source": [
    "m3r2 = r2_score(model3.predict(test_x2),test_y2)*100\n",
    "print(\"Model 3 R2 Score = \",round(m3r2,2),\"%\")"
   ]
  },
  {
   "cell_type": "markdown",
   "id": "1d1f5e8a",
   "metadata": {},
   "source": [
    "<div class=\"alert alert-block alert-info\"> <span style=\"font-size:18px;font-weight : bold;color:#AA0078\"> Support Vector Regression - Model 4</span></div>"
   ]
  },
  {
   "cell_type": "code",
   "execution_count": 58,
   "id": "a1a69625",
   "metadata": {},
   "outputs": [],
   "source": [
    "from sklearn.svm import SVR\n",
    "model4 = SVR()"
   ]
  },
  {
   "cell_type": "code",
   "execution_count": 59,
   "id": "dd1e4cbf",
   "metadata": {},
   "outputs": [
    {
     "data": {
      "text/plain": [
       "SVR()"
      ]
     },
     "execution_count": 59,
     "metadata": {},
     "output_type": "execute_result"
    }
   ],
   "source": [
    "model4.fit(train_x2,train_y2)"
   ]
  },
  {
   "cell_type": "code",
   "execution_count": 60,
   "id": "f23b64a5",
   "metadata": {},
   "outputs": [
    {
     "name": "stdout",
     "output_type": "stream",
     "text": [
      "Mean Sqaured Error for Train Data :  9.326595631685409\n"
     ]
    }
   ],
   "source": [
    "print(\"Mean Sqaured Error for Train Data : \",mean_squared_error(train_y2, model4.predict(train_x2)))"
   ]
  },
  {
   "cell_type": "code",
   "execution_count": 61,
   "id": "eaff6f64",
   "metadata": {},
   "outputs": [
    {
     "name": "stdout",
     "output_type": "stream",
     "text": [
      "Mean Sqaured Error for Test Data :  9.711749610053449\n"
     ]
    }
   ],
   "source": [
    "print(\"Mean Sqaured Error for Test Data : \",mean_squared_error(test_y2, model4.predict(test_x2)))"
   ]
  },
  {
   "cell_type": "code",
   "execution_count": 62,
   "id": "b2c30ad1",
   "metadata": {
    "scrolled": true
   },
   "outputs": [
    {
     "name": "stdout",
     "output_type": "stream",
     "text": [
      "Model 4 Score =  89.89 %\n"
     ]
    }
   ],
   "source": [
    "print(\"Model 4 Score = \",round(model4.score(train_x2, train_y2)*100,2), \"%\")"
   ]
  },
  {
   "cell_type": "code",
   "execution_count": 63,
   "id": "a81cf95e",
   "metadata": {},
   "outputs": [
    {
     "name": "stdout",
     "output_type": "stream",
     "text": [
      "Model 4 R2 Score =  85.66 %\n"
     ]
    }
   ],
   "source": [
    "m4r2 = r2_score(model4.predict(test_x2),test_y2)*100\n",
    "print(\"Model 4 R2 Score = \",round(m4r2,2),\"%\")"
   ]
  },
  {
   "cell_type": "markdown",
   "id": "e6bf1090",
   "metadata": {},
   "source": [
    "<div class=\"alert alert-block alert-info\"> <span style=\"font-size:18px;font-weight : bold;color:#AA0078\"> Comparing the 4 Models with Visualisation</span></div>"
   ]
  },
  {
   "cell_type": "markdown",
   "id": "ff86c6bb",
   "metadata": {},
   "source": [
    "<span style=\"font-size:18px;color:#AA0078\"> **Comparing on the Train Data </span>"
   ]
  },
  {
   "cell_type": "code",
   "execution_count": 64,
   "id": "eefc3ad2",
   "metadata": {},
   "outputs": [
    {
     "data": {
      "text/html": [
       "<div>\n",
       "<style scoped>\n",
       "    .dataframe tbody tr th:only-of-type {\n",
       "        vertical-align: middle;\n",
       "    }\n",
       "\n",
       "    .dataframe tbody tr th {\n",
       "        vertical-align: top;\n",
       "    }\n",
       "\n",
       "    .dataframe thead th {\n",
       "        text-align: right;\n",
       "    }\n",
       "</style>\n",
       "<table border=\"1\" class=\"dataframe\">\n",
       "  <thead>\n",
       "    <tr style=\"text-align: right;\">\n",
       "      <th></th>\n",
       "      <th>Model</th>\n",
       "      <th>Model_score (%)</th>\n",
       "      <th>MSE(Test)</th>\n",
       "    </tr>\n",
       "  </thead>\n",
       "  <tbody>\n",
       "    <tr>\n",
       "      <th>0</th>\n",
       "      <td>Random Forest Regressor</td>\n",
       "      <td>92.08</td>\n",
       "      <td>7.37</td>\n",
       "    </tr>\n",
       "    <tr>\n",
       "      <th>1</th>\n",
       "      <td>Random Forest Regressor with new Features</td>\n",
       "      <td>93.42</td>\n",
       "      <td>7.16</td>\n",
       "    </tr>\n",
       "    <tr>\n",
       "      <th>2</th>\n",
       "      <td>Linear Regression</td>\n",
       "      <td>91.67</td>\n",
       "      <td>7.02</td>\n",
       "    </tr>\n",
       "    <tr>\n",
       "      <th>3</th>\n",
       "      <td>SVR</td>\n",
       "      <td>89.89</td>\n",
       "      <td>9.71</td>\n",
       "    </tr>\n",
       "  </tbody>\n",
       "</table>\n",
       "</div>"
      ],
      "text/plain": [
       "                                       Model Model_score (%) MSE(Test)\n",
       "0                    Random Forest Regressor           92.08      7.37\n",
       "1  Random Forest Regressor with new Features           93.42      7.16\n",
       "2                          Linear Regression           91.67      7.02\n",
       "3                                        SVR           89.89      9.71"
      ]
     },
     "execution_count": 64,
     "metadata": {},
     "output_type": "execute_result"
    }
   ],
   "source": [
    "models = ['Random Forest Regressor','Random Forest Regressor with new Features','Linear Regression','SVR']\n",
    "model_score = [92.08,93.42,91.67,89.89]\n",
    "MSE = [7.37,7.16,7.02,9.71]\n",
    "Results = pd.DataFrame([models,model_score,MSE],index=['Model','Model_score (%)','MSE(Test)'])\n",
    "Results = Results.transpose()\n",
    "Results"
   ]
  },
  {
   "cell_type": "code",
   "execution_count": 65,
   "id": "c3f348b8",
   "metadata": {},
   "outputs": [
    {
     "data": {
      "image/png": "[encoded data removed]",
      "text/plain": [
       "<Figure size 1080x504 with 1 Axes>"
      ]
     },
     "metadata": {
      "needs_background": "light"
     },
     "output_type": "display_data"
    }
   ],
   "source": [
    "plt.figure(figsize=(15,7))\n",
    "plt.title('Comparisions of model based on Score',fontdict={'fontsize':15,'color':'darkred'})\n",
    "sns.barplot(x='Model',y='Model_score (%)',data = Results,palette='rainbow')\n",
    "plt.show()"
   ]
  },
  {
   "cell_type": "code",
   "execution_count": 66,
   "id": "9d91e443",
   "metadata": {
    "scrolled": false
   },
   "outputs": [
    {
     "data": {
      "image/png": "[encoded data removed]",
      "text/plain": [
       "<Figure size 1080x504 with 1 Axes>"
      ]
     },
     "metadata": {
      "needs_background": "light"
     },
     "output_type": "display_data"
    }
   ],
   "source": [
    "plt.figure(figsize=(15,7))\n",
    "plt.title('Comparisions of Mean Sqaured Error',fontdict={'fontsize':15,'color':'darkred'})\n",
    "sns.barplot(x='Model',y='MSE(Test)',data = Results,palette='rainbow')\n",
    "plt.show()"
   ]
  },
  {
   "cell_type": "markdown",
   "id": "e6e7baa4",
   "metadata": {},
   "source": [
    "# END OF CODE "
   ]
  }
 ],
 "metadata": {
  "kernelspec": {
   "display_name": "Python 3",
   "language": "python",
   "name": "python3"
  },
  "language_info": {
   "codemirror_mode": {
    "name": "ipython",
    "version": 3
   },
   "file_extension": ".py",
   "mimetype": "text/x-python",
   "name": "python",
   "nbconvert_exporter": "python",
   "pygments_lexer": "ipython3",
   "version": "3.8.8"
  }
 },
 "nbformat": 4,
 "nbformat_minor": 5
}
